{
  "nbformat": 4,
  "nbformat_minor": 0,
  "metadata": {
    "colab": {
      "provenance": [],
      "toc_visible": true
    },
    "kernelspec": {
      "name": "python3",
      "display_name": "Python 3"
    },
    "language_info": {
      "name": "python"
    }
  },
  "cells": [
    {
      "cell_type": "code",
      "execution_count": null,
      "metadata": {
        "id": "XMQTJTJTouKZ"
      },
      "outputs": [],
      "source": [
        "# Instalar Java y Spark\n",
        "!apt-get install openjdk-11-jdk-headless -qq > /dev/null\n",
        "!wget -q https://downloads.apache.org/spark/spark-3.3.1/spark-3.3.1-bin-hadoop3.tgz\n",
        "!tar xf spark-3.3.1-bin-hadoop3.tgz\n",
        "!pip install -q findspark"
      ]
    },
    {
      "cell_type": "code",
      "source": [
        "import os\n",
        "os.environ[\"JAVA_HOME\"] = \"/usr/lib/jvm/java-11-openjdk-amd64\"\n",
        "os.environ[\"SPARK_HOME\"] = \"/content/spark-3.3.1-bin-hadoop3\""
      ],
      "metadata": {
        "id": "BnMd8mjXqqep"
      },
      "execution_count": null,
      "outputs": []
    },
    {
      "cell_type": "code",
      "source": [
        "# Trabajar en Spark\n",
        "import findspark\n",
        "findspark.init()\n",
        "from pyspark.sql import SparkSession\n",
        "spark = SparkSession.builder.master(\"local[*]\").getOrCreate()\n",
        "sc = spark.sparkContext"
      ],
      "metadata": {
        "id": "xhYKaMYrqyT0"
      },
      "execution_count": null,
      "outputs": []
    },
    {
      "cell_type": "code",
      "source": [
        "spark"
      ],
      "metadata": {
        "colab": {
          "base_uri": "https://localhost:8080/",
          "height": 219
        },
        "id": "r1fIc_aHq-OQ",
        "outputId": "27a8ad22-8d8b-4890-c806-80e7246cab04"
      },
      "execution_count": null,
      "outputs": [
        {
          "output_type": "execute_result",
          "data": {
            "text/plain": [
              "<pyspark.sql.session.SparkSession at 0x7f9e75e25d90>"
            ],
            "text/html": [
              "\n",
              "            <div>\n",
              "                <p><b>SparkSession - in-memory</b></p>\n",
              "                \n",
              "        <div>\n",
              "            <p><b>SparkContext</b></p>\n",
              "\n",
              "            <p><a href=\"http://b08b653c06a6:4040\">Spark UI</a></p>\n",
              "\n",
              "            <dl>\n",
              "              <dt>Version</dt>\n",
              "                <dd><code>v3.3.1</code></dd>\n",
              "              <dt>Master</dt>\n",
              "                <dd><code>local[*]</code></dd>\n",
              "              <dt>AppName</dt>\n",
              "                <dd><code>pyspark-shell</code></dd>\n",
              "            </dl>\n",
              "        </div>\n",
              "        \n",
              "            </div>\n",
              "        "
            ]
          },
          "metadata": {},
          "execution_count": 4
        }
      ]
    },
    {
      "cell_type": "code",
      "source": [
        "sc"
      ],
      "metadata": {
        "colab": {
          "base_uri": "https://localhost:8080/",
          "height": 196
        },
        "id": "IaSTHhTirAH7",
        "outputId": "8905cf35-e184-46ec-f189-533bb9351502"
      },
      "execution_count": null,
      "outputs": [
        {
          "output_type": "execute_result",
          "data": {
            "text/plain": [
              "<SparkContext master=local[*] appName=pyspark-shell>"
            ],
            "text/html": [
              "\n",
              "        <div>\n",
              "            <p><b>SparkContext</b></p>\n",
              "\n",
              "            <p><a href=\"http://b08b653c06a6:4040\">Spark UI</a></p>\n",
              "\n",
              "            <dl>\n",
              "              <dt>Version</dt>\n",
              "                <dd><code>v3.3.1</code></dd>\n",
              "              <dt>Master</dt>\n",
              "                <dd><code>local[*]</code></dd>\n",
              "              <dt>AppName</dt>\n",
              "                <dd><code>pyspark-shell</code></dd>\n",
              "            </dl>\n",
              "        </div>\n",
              "        "
            ]
          },
          "metadata": {},
          "execution_count": 5
        }
      ]
    },
    {
      "cell_type": "code",
      "source": [
        "# Conectamos nuestro Drive\n",
        "from google.colab import drive\n",
        "drive.mount('/content/gdrive')"
      ],
      "metadata": {
        "colab": {
          "base_uri": "https://localhost:8080/"
        },
        "id": "UuFtnE-4uLKK",
        "outputId": "c8f4366f-6d51-435d-e54e-642e2c462da3"
      },
      "execution_count": 9,
      "outputs": [
        {
          "output_type": "stream",
          "name": "stdout",
          "text": [
            "Mounted at /content/gdrive\n"
          ]
        }
      ]
    },
    {
      "cell_type": "code",
      "source": [
        "# Cargar datos desde Drive\n",
        "df=spark.read.csv('/content/gdrive/MyDrive/datasets/covid19/Casos_positivos_de_COVID-19_en_Colombia-100K.csv',inferSchema=True,header=True)"
      ],
      "metadata": {
        "id": "avSUDCFRrCAV"
      },
      "execution_count": 10,
      "outputs": []
    },
    {
      "cell_type": "code",
      "source": [
        "# Columnas\n",
        "df.columns"
      ],
      "metadata": {
        "colab": {
          "base_uri": "https://localhost:8080/"
        },
        "id": "tTjXRX4xue0e",
        "outputId": "d7db0a50-2624-4a25-8b6e-f3d44a7e9f2e"
      },
      "execution_count": 11,
      "outputs": [
        {
          "output_type": "execute_result",
          "data": {
            "text/plain": [
              "['fecha reporte web',\n",
              " 'ID de caso',\n",
              " 'Fecha de notificación',\n",
              " 'Código DIVIPOLA departamento',\n",
              " 'Nombre departamento',\n",
              " 'Código DIVIPOLA municipio',\n",
              " 'Nombre municipio',\n",
              " 'Edad',\n",
              " 'Unidad de medida de edad',\n",
              " 'Sexo',\n",
              " 'Tipo de contagio',\n",
              " 'Ubicación del caso',\n",
              " 'Estado',\n",
              " 'Código ISO del país',\n",
              " 'Nombre del país',\n",
              " 'Recuperado',\n",
              " 'Fecha de inicio de síntomas',\n",
              " 'Fecha de muerte',\n",
              " 'Fecha de diagnóstico',\n",
              " 'Fecha de recuperación',\n",
              " 'Tipo de recuperación',\n",
              " 'Pertenencia étnica',\n",
              " 'Nombre del grupo étnico']"
            ]
          },
          "metadata": {},
          "execution_count": 11
        }
      ]
    },
    {
      "cell_type": "code",
      "source": [
        "# Tipo de dato\n",
        "df.printSchema()"
      ],
      "metadata": {
        "colab": {
          "base_uri": "https://localhost:8080/"
        },
        "id": "oZ-_vgIvw1mc",
        "outputId": "7b154a6c-1e7a-42a8-f5fb-5976580b9866"
      },
      "execution_count": 12,
      "outputs": [
        {
          "output_type": "stream",
          "name": "stdout",
          "text": [
            "root\n",
            " |-- fecha reporte web: string (nullable = true)\n",
            " |-- ID de caso: integer (nullable = true)\n",
            " |-- Fecha de notificación: string (nullable = true)\n",
            " |-- Código DIVIPOLA departamento: integer (nullable = true)\n",
            " |-- Nombre departamento: string (nullable = true)\n",
            " |-- Código DIVIPOLA municipio: integer (nullable = true)\n",
            " |-- Nombre municipio: string (nullable = true)\n",
            " |-- Edad: integer (nullable = true)\n",
            " |-- Unidad de medida de edad: integer (nullable = true)\n",
            " |-- Sexo: string (nullable = true)\n",
            " |-- Tipo de contagio: string (nullable = true)\n",
            " |-- Ubicación del caso: string (nullable = true)\n",
            " |-- Estado: string (nullable = true)\n",
            " |-- Código ISO del país: integer (nullable = true)\n",
            " |-- Nombre del país: string (nullable = true)\n",
            " |-- Recuperado: string (nullable = true)\n",
            " |-- Fecha de inicio de síntomas: string (nullable = true)\n",
            " |-- Fecha de muerte: string (nullable = true)\n",
            " |-- Fecha de diagnóstico: string (nullable = true)\n",
            " |-- Fecha de recuperación: string (nullable = true)\n",
            " |-- Tipo de recuperación: string (nullable = true)\n",
            " |-- Pertenencia étnica: integer (nullable = true)\n",
            " |-- Nombre del grupo étnico: string (nullable = true)\n",
            "\n"
          ]
        }
      ]
    },
    {
      "cell_type": "code",
      "source": [
        "# Seleccionar 3 columnas\n",
        "df.select('ID de caso','Edad', 'Sexo').show(5)"
      ],
      "metadata": {
        "colab": {
          "base_uri": "https://localhost:8080/"
        },
        "id": "lYGTFZrRxaju",
        "outputId": "d4d0c23e-7835-429b-87d9-43f0bd649f36"
      },
      "execution_count": 14,
      "outputs": [
        {
          "output_type": "stream",
          "name": "stdout",
          "text": [
            "+----------+----+----+\n",
            "|ID de caso|Edad|Sexo|\n",
            "+----------+----+----+\n",
            "|         1|  19|   F|\n",
            "|         2|  34|   M|\n",
            "|         3|  50|   F|\n",
            "|         4|  55|   M|\n",
            "|         5|  25|   M|\n",
            "+----------+----+----+\n",
            "only showing top 5 rows\n",
            "\n"
          ]
        }
      ]
    },
    {
      "cell_type": "code",
      "source": [
        "# Cambiar nombre de columna\n",
        "df.select('ID de caso', 'Nombre del país').withColumnRenamed('Nombre del país', 'País').show(5)\n"
      ],
      "metadata": {
        "colab": {
          "base_uri": "https://localhost:8080/"
        },
        "id": "GnFG9Df9xt0b",
        "outputId": "9a051031-2c5f-4f02-8cbb-2a794af75267"
      },
      "execution_count": 15,
      "outputs": [
        {
          "output_type": "stream",
          "name": "stdout",
          "text": [
            "+----------+------+\n",
            "|ID de caso|  País|\n",
            "+----------+------+\n",
            "|         1|ITALIA|\n",
            "|         2|ESPAÑA|\n",
            "|         3|ESPAÑA|\n",
            "|         4|  null|\n",
            "|         5|  null|\n",
            "+----------+------+\n",
            "only showing top 5 rows\n",
            "\n"
          ]
        }
      ]
    },
    {
      "cell_type": "code",
      "source": [
        "# Agregar columna (Aumentar 20 años la edad)\n",
        "df.select('ID de caso', 'Edad').withColumn('Edad mas 20', (df['Edad']+20)).show(5)\n"
      ],
      "metadata": {
        "colab": {
          "base_uri": "https://localhost:8080/"
        },
        "id": "X6qexNcnzTNX",
        "outputId": "4f69b6ab-785d-426e-ce21-2279f47d360e"
      },
      "execution_count": 16,
      "outputs": [
        {
          "output_type": "stream",
          "name": "stdout",
          "text": [
            "+----------+----+-----------+\n",
            "|ID de caso|Edad|Edad mas 20|\n",
            "+----------+----+-----------+\n",
            "|         1|  19|         39|\n",
            "|         2|  34|         54|\n",
            "|         3|  50|         70|\n",
            "|         4|  55|         75|\n",
            "|         5|  25|         45|\n",
            "+----------+----+-----------+\n",
            "only showing top 5 rows\n",
            "\n"
          ]
        }
      ]
    },
    {
      "cell_type": "code",
      "source": [
        "# Borrar una columna\n",
        "df.select('ID de caso','Edad','Sexo', 'Nombre del grupo étnico').drop('Nombre del grupo étnico').show(5)"
      ],
      "metadata": {
        "colab": {
          "base_uri": "https://localhost:8080/"
        },
        "id": "tZApqsSqz29E",
        "outputId": "101fb60a-01d2-4d26-a4a0-7398fd494c08"
      },
      "execution_count": 17,
      "outputs": [
        {
          "output_type": "stream",
          "name": "stdout",
          "text": [
            "+----------+----+----+\n",
            "|ID de caso|Edad|Sexo|\n",
            "+----------+----+----+\n",
            "|         1|  19|   F|\n",
            "|         2|  34|   M|\n",
            "|         3|  50|   F|\n",
            "|         4|  55|   M|\n",
            "|         5|  25|   M|\n",
            "+----------+----+----+\n",
            "only showing top 5 rows\n",
            "\n"
          ]
        }
      ]
    },
    {
      "cell_type": "code",
      "source": [
        "# Filtrar datos\n",
        "df.filter(df['Edad']=='19').show(5)"
      ],
      "metadata": {
        "colab": {
          "base_uri": "https://localhost:8080/"
        },
        "id": "TDEYSafE00TQ",
        "outputId": "e7ae49d2-b618-4938-9b2f-6a5daff318db"
      },
      "execution_count": 19,
      "outputs": [
        {
          "output_type": "stream",
          "name": "stdout",
          "text": [
            "+-----------------+----------+---------------------+----------------------------+-------------------+-------------------------+----------------+----+------------------------+----+----------------+------------------+------+-------------------+--------------------+----------+---------------------------+---------------+--------------------+---------------------+--------------------+------------------+-----------------------+\n",
            "|fecha reporte web|ID de caso|Fecha de notificación|Código DIVIPOLA departamento|Nombre departamento|Código DIVIPOLA municipio|Nombre municipio|Edad|Unidad de medida de edad|Sexo|Tipo de contagio|Ubicación del caso|Estado|Código ISO del país|     Nombre del país|Recuperado|Fecha de inicio de síntomas|Fecha de muerte|Fecha de diagnóstico|Fecha de recuperación|Tipo de recuperación|Pertenencia étnica|Nombre del grupo étnico|\n",
            "+-----------------+----------+---------------------+----------------------------+-------------------+-------------------------+----------------+----+------------------------+----+----------------+------------------+------+-------------------+--------------------+----------+---------------------------+---------------+--------------------+---------------------+--------------------+------------------+-----------------------+\n",
            "| 6/3/2020 0:00:00|         1|     2/3/2020 0:00:00|                          11|             BOGOTA|                    11001|          BOGOTA|  19|                       1|   F|       Importado|              Casa|  Leve|                380|              ITALIA|Recuperado|          27/2/2020 0:00:00|           null|    6/3/2020 0:00:00|    13/3/2020 0:00:00|                 PCR|                 6|                   null|\n",
            "|22/3/2020 0:00:00|       224|    19/3/2020 0:00:00|                          73|             TOLIMA|                    73001|          IBAGUE|  19|                       1|   M|     Relacionado|              Casa|  Leve|               null|                null|Recuperado|          16/3/2020 0:00:00|           null|   22/3/2020 0:00:00|    31/3/2020 0:00:00|                 PCR|                 6|                   null|\n",
            "|23/3/2020 0:00:00|       255|    21/3/2020 0:00:00|                          11|             BOGOTA|                    11001|          BOGOTA|  19|                       1|   F|       Importado|              Casa|  Leve|                840|ESTADOS UNIDOS DE...|Recuperado|          18/3/2020 0:00:00|           null|   23/3/2020 0:00:00|     6/4/2020 0:00:00|                 PCR|                 6|                   null|\n",
            "|24/3/2020 0:00:00|       325|    20/3/2020 0:00:00|                        8001|       BARRANQUILLA|                     8001|    BARRANQUILLA|  19|                       1|   F|       Importado|              Casa|  Leve|                724|              ESPAÑA|Recuperado|          17/3/2020 0:00:00|           null|   24/3/2020 0:00:00|     3/4/2020 0:00:00|                 PCR|                 6|                   null|\n",
            "|25/3/2020 0:00:00|       435|    22/3/2020 0:00:00|                          63|            QUINDIO|                    63001|         ARMENIA|  19|                       1|   M|     Relacionado|              Casa|  Leve|               null|                null|Recuperado|          21/3/2020 0:00:00|           null|   25/3/2020 0:00:00|     4/4/2020 0:00:00|                 PCR|                 6|                   null|\n",
            "+-----------------+----------+---------------------+----------------------------+-------------------+-------------------------+----------------+----+------------------------+----+----------------+------------------+------+-------------------+--------------------+----------+---------------------------+---------------+--------------------+---------------------+--------------------+------------------+-----------------------+\n",
            "only showing top 5 rows\n",
            "\n"
          ]
        }
      ]
    },
    {
      "cell_type": "code",
      "source": [
        "from pyspark.sql.functions import udf\n",
        "from pyspark.sql.types import StringType\n",
        "# Funcion lambda\n",
        "riesgo_udf = udf(lambda riesgo: \"Moderado\" if riesgo <= 60 else \"Alto\", StringType())\n",
        "# Usar funcion\n",
        "df.withColumn(\"Riesgo de muerte\", riesgo_udf(df.Edad)).show(10)"
      ],
      "metadata": {
        "colab": {
          "base_uri": "https://localhost:8080/"
        },
        "id": "z82PKmcF0_q9",
        "outputId": "d9bff195-b896-47a3-9ab2-a9dcdcb8592c"
      },
      "execution_count": 24,
      "outputs": [
        {
          "output_type": "stream",
          "name": "stdout",
          "text": [
            "+-----------------+----------+---------------------+----------------------------+-------------------+-------------------------+----------------+----+------------------------+----+----------------+------------------+------+-------------------+--------------------+----------+---------------------------+---------------+--------------------+---------------------+--------------------+------------------+-----------------------+----------------+\n",
            "|fecha reporte web|ID de caso|Fecha de notificación|Código DIVIPOLA departamento|Nombre departamento|Código DIVIPOLA municipio|Nombre municipio|Edad|Unidad de medida de edad|Sexo|Tipo de contagio|Ubicación del caso|Estado|Código ISO del país|     Nombre del país|Recuperado|Fecha de inicio de síntomas|Fecha de muerte|Fecha de diagnóstico|Fecha de recuperación|Tipo de recuperación|Pertenencia étnica|Nombre del grupo étnico|Riesgo de muerte|\n",
            "+-----------------+----------+---------------------+----------------------------+-------------------+-------------------------+----------------+----+------------------------+----+----------------+------------------+------+-------------------+--------------------+----------+---------------------------+---------------+--------------------+---------------------+--------------------+------------------+-----------------------+----------------+\n",
            "| 6/3/2020 0:00:00|         1|     2/3/2020 0:00:00|                          11|             BOGOTA|                    11001|          BOGOTA|  19|                       1|   F|       Importado|              Casa|  Leve|                380|              ITALIA|Recuperado|          27/2/2020 0:00:00|           null|    6/3/2020 0:00:00|    13/3/2020 0:00:00|                 PCR|                 6|                   null|        Moderado|\n",
            "| 9/3/2020 0:00:00|         2|     6/3/2020 0:00:00|                          76|              VALLE|                    76111|            BUGA|  34|                       1|   M|       Importado|              Casa|  Leve|                724|              ESPAÑA|Recuperado|           4/3/2020 0:00:00|           null|    9/3/2020 0:00:00|    19/3/2020 0:00:00|                 PCR|                 5|                   null|        Moderado|\n",
            "| 9/3/2020 0:00:00|         3|     7/3/2020 0:00:00|                           5|          ANTIOQUIA|                     5001|        MEDELLIN|  50|                       1|   F|       Importado|              Casa|  Leve|                724|              ESPAÑA|Recuperado|          29/2/2020 0:00:00|           null|    9/3/2020 0:00:00|    15/3/2020 0:00:00|                 PCR|                 6|                   null|        Moderado|\n",
            "|11/3/2020 0:00:00|         4|     9/3/2020 0:00:00|                           5|          ANTIOQUIA|                     5001|        MEDELLIN|  55|                       1|   M|     Relacionado|              Casa|  Leve|               null|                null|Recuperado|           6/3/2020 0:00:00|           null|   11/3/2020 0:00:00|    26/3/2020 0:00:00|                 PCR|                 6|                   null|        Moderado|\n",
            "|11/3/2020 0:00:00|         5|     9/3/2020 0:00:00|                           5|          ANTIOQUIA|                     5001|        MEDELLIN|  25|                       1|   M|     Relacionado|              Casa|  Leve|               null|                null|Recuperado|           8/3/2020 0:00:00|           null|   11/3/2020 0:00:00|    23/3/2020 0:00:00|                 PCR|                 6|                   null|        Moderado|\n",
            "|11/3/2020 0:00:00|         6|    10/3/2020 0:00:00|                           5|          ANTIOQUIA|                     5360|          ITAGUI|  27|                       1|   F|     Relacionado|              Casa|  Leve|               null|                null|Recuperado|           6/3/2020 0:00:00|           null|   11/3/2020 0:00:00|    26/3/2020 0:00:00|                 PCR|                 6|                   null|        Moderado|\n",
            "|11/3/2020 0:00:00|         7|     8/3/2020 0:00:00|                       13001|          CARTAGENA|                    13001|       CARTAGENA|  85|                       1|   F|       Importado|              Casa|  Leve|                840|ESTADOS UNIDOS DE...|Recuperado|           2/3/2020 0:00:00|           null|   11/3/2020 0:00:00|    17/3/2020 0:00:00|                 PCR|                 6|                   null|            Alto|\n",
            "|11/3/2020 0:00:00|         8|     9/3/2020 0:00:00|                          11|             BOGOTA|                    11001|          BOGOTA|  22|                       1|   F|       Importado|              Casa|  Leve|                724|              ESPAÑA|Recuperado|           6/3/2020 0:00:00|           null|   11/3/2020 0:00:00|    21/3/2020 0:00:00|                 PCR|                 6|                   null|        Moderado|\n",
            "|11/3/2020 0:00:00|         9|     8/3/2020 0:00:00|                          11|             BOGOTA|                    11001|          BOGOTA|  28|                       1|   F|       Importado|              Casa|  Leve|                724|              ESPAÑA|Recuperado|           7/3/2020 0:00:00|           null|   11/3/2020 0:00:00|    23/3/2020 0:00:00|                 PCR|                 6|                   null|        Moderado|\n",
            "|12/3/2020 0:00:00|        10|    12/3/2020 0:00:00|                          11|             BOGOTA|                    11001|          BOGOTA|  36|                       1|   F|       Importado|              Casa|  Leve|                724|              ESPAÑA|Recuperado|           6/3/2020 0:00:00|           null|   12/3/2020 0:00:00|    21/3/2020 0:00:00|                 PCR|                 6|                   null|        Moderado|\n",
            "+-----------------+----------+---------------------+----------------------------+-------------------+-------------------------+----------------+----+------------------------+----+----------------+------------------+------+-------------------+--------------------+----------+---------------------------+---------------+--------------------+---------------------+--------------------+------------------+-----------------------+----------------+\n",
            "only showing top 10 rows\n",
            "\n"
          ]
        }
      ]
    },
    {
      "cell_type": "code",
      "source": [
        "# Punto 3 Dataframes\n",
        "\n",
        "# Los 10 departamentos con más casos de covid en Colombia ordenados de mayor a menor.\n",
        "df.groupBy('Nombre departamento').count().orderBy('count',ascending=False).show(10,False)"
      ],
      "metadata": {
        "colab": {
          "base_uri": "https://localhost:8080/"
        },
        "id": "DZSCVBnC3WZq",
        "outputId": "2ca3f91f-01ba-403e-f704-97fdfe8f3bff"
      },
      "execution_count": 33,
      "outputs": [
        {
          "output_type": "stream",
          "name": "stdout",
          "text": [
            "+-------------------+-----+\n",
            "|Nombre departamento|count|\n",
            "+-------------------+-----+\n",
            "|BOGOTA             |30016|\n",
            "|BARRANQUILLA       |13065|\n",
            "|ATLANTICO          |10994|\n",
            "|VALLE              |10404|\n",
            "|CARTAGENA          |8333 |\n",
            "|ANTIOQUIA          |4554 |\n",
            "|NARIÑO             |3520 |\n",
            "|CUNDINAMARCA       |2827 |\n",
            "|AMAZONAS           |2317 |\n",
            "|CHOCO              |1636 |\n",
            "+-------------------+-----+\n",
            "only showing top 10 rows\n",
            "\n"
          ]
        }
      ]
    },
    {
      "cell_type": "code",
      "source": [
        "# Las 10 ciudades con más casos de covid en Colombia ordenados de mayor a menor.\n",
        "df.groupBy('Nombre municipio').count().orderBy('count',ascending=False).show(10,False)"
      ],
      "metadata": {
        "colab": {
          "base_uri": "https://localhost:8080/"
        },
        "id": "_fcoO2Fp38sR",
        "outputId": "69c5aabd-6355-46b7-b4f3-7ce4ca4cb2ba"
      },
      "execution_count": 26,
      "outputs": [
        {
          "output_type": "stream",
          "name": "stdout",
          "text": [
            "+----------------+-----+\n",
            "|Nombre municipio|count|\n",
            "+----------------+-----+\n",
            "|BOGOTA          |30016|\n",
            "|BARRANQUILLA    |13065|\n",
            "|CARTAGENA       |8333 |\n",
            "|CALI            |7747 |\n",
            "|SOLEDAD         |6233 |\n",
            "|LETICIA         |2194 |\n",
            "|MEDELLIN        |2137 |\n",
            "|TUMACO          |1501 |\n",
            "|BUENAVENTURA    |1453 |\n",
            "|QUIBDO          |1367 |\n",
            "+----------------+-----+\n",
            "only showing top 10 rows\n",
            "\n"
          ]
        }
      ]
    },
    {
      "cell_type": "code",
      "source": [
        "# Los 10 días con más casos de covid en Colombia ordenados de mayor a menor.\n",
        "df.groupBy('Fecha de notificación').count().orderBy('count',ascending=False).show(10,False)"
      ],
      "metadata": {
        "colab": {
          "base_uri": "https://localhost:8080/"
        },
        "id": "X9GxqRlr4VpU",
        "outputId": "b6af93d0-0e8e-4646-d8cb-bf14be9ca97c"
      },
      "execution_count": 30,
      "outputs": [
        {
          "output_type": "stream",
          "name": "stdout",
          "text": [
            "+---------------------+-----+\n",
            "|Fecha de notificación|count|\n",
            "+---------------------+-----+\n",
            "|18/6/2020 0:00:00    |3477 |\n",
            "|19/6/2020 0:00:00    |3328 |\n",
            "|17/6/2020 0:00:00    |3318 |\n",
            "|16/6/2020 0:00:00    |3232 |\n",
            "|23/6/2020 0:00:00    |3230 |\n",
            "|11/6/2020 0:00:00    |2747 |\n",
            "|20/6/2020 0:00:00    |2684 |\n",
            "|12/6/2020 0:00:00    |2679 |\n",
            "|10/6/2020 0:00:00    |2650 |\n",
            "|24/6/2020 0:00:00    |2599 |\n",
            "+---------------------+-----+\n",
            "only showing top 10 rows\n",
            "\n"
          ]
        }
      ]
    },
    {
      "cell_type": "code",
      "source": [
        "# Distribución de casos por edades de covid en Colombia.\n",
        "df.groupBy('Edad').count().orderBy('Edad',ascending=True).show()"
      ],
      "metadata": {
        "colab": {
          "base_uri": "https://localhost:8080/"
        },
        "id": "zxM_gfXL45Ca",
        "outputId": "dbc19b36-2c62-4fc3-c749-5cf6b6deb2dc"
      },
      "execution_count": 34,
      "outputs": [
        {
          "output_type": "stream",
          "name": "stdout",
          "text": [
            "+----+-----+\n",
            "|Edad|count|\n",
            "+----+-----+\n",
            "|   1|  485|\n",
            "|   2|  440|\n",
            "|   3|  449|\n",
            "|   4|  373|\n",
            "|   5|  425|\n",
            "|   6|  431|\n",
            "|   7|  442|\n",
            "|   8|  461|\n",
            "|   9|  467|\n",
            "|  10|  530|\n",
            "|  11|  566|\n",
            "|  12|  562|\n",
            "|  13|  531|\n",
            "|  14|  580|\n",
            "|  15|  560|\n",
            "|  16|  600|\n",
            "|  17|  685|\n",
            "|  18| 1160|\n",
            "|  19| 1567|\n",
            "|  20| 1674|\n",
            "+----+-----+\n",
            "only showing top 20 rows\n",
            "\n"
          ]
        }
      ]
    },
    {
      "cell_type": "code",
      "source": [
        "# Distribucion de casos por estado. \n",
        "df.groupBy('Estado').count().orderBy('count',ascending=False).show()"
      ],
      "metadata": {
        "colab": {
          "base_uri": "https://localhost:8080/"
        },
        "id": "TeP262yT5bfI",
        "outputId": "b7ed1b6f-220f-459f-8e5f-1577c26d9706"
      },
      "execution_count": 37,
      "outputs": [
        {
          "output_type": "stream",
          "name": "stdout",
          "text": [
            "+---------+-----+\n",
            "|   Estado|count|\n",
            "+---------+-----+\n",
            "|     Leve|94367|\n",
            "|Fallecido| 4663|\n",
            "|      N/A|  970|\n",
            "+---------+-----+\n",
            "\n"
          ]
        }
      ]
    },
    {
      "cell_type": "code",
      "source": [
        "# Punto 3 SparkSQL\n",
        "df.createOrReplaceTempView(\"covid19\")"
      ],
      "metadata": {
        "id": "envwoDNV58FB"
      },
      "execution_count": 38,
      "outputs": []
    },
    {
      "cell_type": "code",
      "source": [
        "# Los 10 departamentos con más casos de covid en Colombia ordenados de mayor a menor.\n",
        "spark.sql(\"\"\"SELECT `Nombre departamento`, COUNT(*) FROM covid19 GROUP BY `Nombre departamento` ORDER BY COUNT(*) DESC\"\"\").show(10)"
      ],
      "metadata": {
        "colab": {
          "base_uri": "https://localhost:8080/"
        },
        "id": "JDgkK5Ix6_qc",
        "outputId": "b0bc8962-9f0d-4eae-b6fe-8dc0de3a2c8a"
      },
      "execution_count": 45,
      "outputs": [
        {
          "output_type": "stream",
          "name": "stdout",
          "text": [
            "+-------------------+--------+\n",
            "|Nombre departamento|count(1)|\n",
            "+-------------------+--------+\n",
            "|             BOGOTA|   30016|\n",
            "|       BARRANQUILLA|   13065|\n",
            "|          ATLANTICO|   10994|\n",
            "|              VALLE|   10404|\n",
            "|          CARTAGENA|    8333|\n",
            "|          ANTIOQUIA|    4554|\n",
            "|             NARIÑO|    3520|\n",
            "|       CUNDINAMARCA|    2827|\n",
            "|           AMAZONAS|    2317|\n",
            "|              CHOCO|    1636|\n",
            "+-------------------+--------+\n",
            "only showing top 10 rows\n",
            "\n"
          ]
        }
      ]
    },
    {
      "cell_type": "code",
      "source": [
        "# Las 10 ciudades con más casos de covid en Colombia ordenados de mayor a menor.\n",
        "spark.sql(\"\"\"SELECT `Nombre municipio`, COUNT(*) FROM covid19 GROUP BY `Nombre municipio` ORDER BY COUNT(*) DESC\"\"\").show(10)"
      ],
      "metadata": {
        "colab": {
          "base_uri": "https://localhost:8080/"
        },
        "id": "hdd2fGOl6AT9",
        "outputId": "d0db66ae-6fae-4563-deea-df47c668fa90"
      },
      "execution_count": 42,
      "outputs": [
        {
          "output_type": "stream",
          "name": "stdout",
          "text": [
            "+----------------+--------+\n",
            "|Nombre municipio|count(1)|\n",
            "+----------------+--------+\n",
            "|          BOGOTA|   30016|\n",
            "|    BARRANQUILLA|   13065|\n",
            "|       CARTAGENA|    8333|\n",
            "|            CALI|    7747|\n",
            "|         SOLEDAD|    6233|\n",
            "|         LETICIA|    2194|\n",
            "|        MEDELLIN|    2137|\n",
            "|          TUMACO|    1501|\n",
            "|    BUENAVENTURA|    1453|\n",
            "|          QUIBDO|    1367|\n",
            "+----------------+--------+\n",
            "only showing top 10 rows\n",
            "\n"
          ]
        }
      ]
    },
    {
      "cell_type": "code",
      "source": [
        "# Los 10 días con más casos de covid en Colombia ordenados de mayor a menor.\n",
        "spark.sql(\"\"\"SELECT `Fecha de notificación`, COUNT(*) FROM covid19 GROUP BY `Fecha de notificación` ORDER BY COUNT(*) DESC\"\"\").show(10)"
      ],
      "metadata": {
        "colab": {
          "base_uri": "https://localhost:8080/"
        },
        "id": "ZJOO7aWO6ggb",
        "outputId": "0412439d-4a11-4dad-9973-5c3ba11977d5"
      },
      "execution_count": 43,
      "outputs": [
        {
          "output_type": "stream",
          "name": "stdout",
          "text": [
            "+---------------------+--------+\n",
            "|Fecha de notificación|count(1)|\n",
            "+---------------------+--------+\n",
            "|    18/6/2020 0:00:00|    3477|\n",
            "|    19/6/2020 0:00:00|    3328|\n",
            "|    17/6/2020 0:00:00|    3318|\n",
            "|    16/6/2020 0:00:00|    3232|\n",
            "|    23/6/2020 0:00:00|    3230|\n",
            "|    11/6/2020 0:00:00|    2747|\n",
            "|    20/6/2020 0:00:00|    2684|\n",
            "|    12/6/2020 0:00:00|    2679|\n",
            "|    10/6/2020 0:00:00|    2650|\n",
            "|    24/6/2020 0:00:00|    2599|\n",
            "+---------------------+--------+\n",
            "only showing top 10 rows\n",
            "\n"
          ]
        }
      ]
    },
    {
      "cell_type": "code",
      "source": [
        "# Distribución de casos por edades de covid en Colombia.\n",
        "spark.sql(\"\"\"SELECT `Edad`, COUNT(*) FROM covid19 GROUP BY `Edad` ORDER BY Edad ASC\"\"\").show()"
      ],
      "metadata": {
        "colab": {
          "base_uri": "https://localhost:8080/"
        },
        "id": "LMgZ8qvB7Pna",
        "outputId": "8fc86ee8-2e4b-47fb-b196-8895896c07ff"
      },
      "execution_count": 46,
      "outputs": [
        {
          "output_type": "stream",
          "name": "stdout",
          "text": [
            "+----+--------+\n",
            "|Edad|count(1)|\n",
            "+----+--------+\n",
            "|   1|     485|\n",
            "|   2|     440|\n",
            "|   3|     449|\n",
            "|   4|     373|\n",
            "|   5|     425|\n",
            "|   6|     431|\n",
            "|   7|     442|\n",
            "|   8|     461|\n",
            "|   9|     467|\n",
            "|  10|     530|\n",
            "|  11|     566|\n",
            "|  12|     562|\n",
            "|  13|     531|\n",
            "|  14|     580|\n",
            "|  15|     560|\n",
            "|  16|     600|\n",
            "|  17|     685|\n",
            "|  18|    1160|\n",
            "|  19|    1567|\n",
            "|  20|    1674|\n",
            "+----+--------+\n",
            "only showing top 20 rows\n",
            "\n"
          ]
        }
      ]
    },
    {
      "cell_type": "code",
      "source": [
        "# Distribucion de casos por estado. \n",
        "spark.sql(\"\"\"SELECT `Estado`, COUNT(*) FROM covid19 GROUP BY `Estado` ORDER BY COUNT(*) DESC\"\"\").show()"
      ],
      "metadata": {
        "colab": {
          "base_uri": "https://localhost:8080/"
        },
        "id": "aHw68g6Z7UZn",
        "outputId": "3c2cb31d-a7d2-490a-ab9b-f39794430962"
      },
      "execution_count": 51,
      "outputs": [
        {
          "output_type": "stream",
          "name": "stdout",
          "text": [
            "+---------+--------+\n",
            "|   Estado|count(1)|\n",
            "+---------+--------+\n",
            "|     Leve|   94367|\n",
            "|Fallecido|    4663|\n",
            "|      N/A|     970|\n",
            "+---------+--------+\n",
            "\n"
          ]
        }
      ]
    },
    {
      "cell_type": "code",
      "source": [
        "#Guardar\n",
        "# Directorio \n",
        "write_uri='/content/gdrive/MyDrive/datasets/googlecolab_csv'\n",
        "# Guardar como csv \n",
        "df.coalesce(1).write.format(\"csv\").option(\"header\",\"true\").save(write_uri)"
      ],
      "metadata": {
        "id": "Z-WVpvfV7sOW"
      },
      "execution_count": 52,
      "outputs": []
    },
    {
      "cell_type": "code",
      "source": [
        "# parquet\n",
        "# Directorio\n",
        "parquet_uri='/content/gdrive/MyDrive/datasets/googlecolab_parquet'\n",
        "# Guardar como parquet\n",
        "df.write.format('parquet').save(parquet_uri)"
      ],
      "metadata": {
        "id": "4f0O62yj74nx"
      },
      "execution_count": 53,
      "outputs": []
    }
  ]
}